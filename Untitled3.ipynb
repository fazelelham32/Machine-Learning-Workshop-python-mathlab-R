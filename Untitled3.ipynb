{
  "nbformat": 4,
  "nbformat_minor": 0,
  "metadata": {
    "colab": {
      "name": "Untitled3.ipynb",
      "provenance": [],
      "collapsed_sections": [],
      "authorship_tag": "ABX9TyOldw5GBj28SZ8at4QOSsOz",
      "include_colab_link": true
    },
    "kernelspec": {
      "name": "python3",
      "display_name": "Python 3"
    }
  },
  "cells": [
    {
      "cell_type": "markdown",
      "metadata": {
        "id": "view-in-github",
        "colab_type": "text"
      },
      "source": [
        "<a href=\"https://colab.research.google.com/github/fazelelham32/elham/blob/master/Untitled3.ipynb\" target=\"_parent\"><img src=\"https://colab.research.google.com/assets/colab-badge.svg\" alt=\"Open In Colab\"/></a>"
      ]
    },
    {
      "cell_type": "code",
      "metadata": {
        "id": "m7CuyrcwbNyv"
      },
      "source": [
        "# Get the sentiment of text from a website"
      ],
      "execution_count": 1,
      "outputs": []
    },
    {
      "cell_type": "code",
      "metadata": {
        "id": "9fM3c9ClbZVb"
      },
      "source": [
        "#pip install newspaper3k"
      ],
      "execution_count": null,
      "outputs": []
    },
    {
      "cell_type": "code",
      "metadata": {
        "id": "mu-2hhZvb34W"
      },
      "source": [
        "#Import the libraries \r\n",
        "from textblob import TextBlob\r\n",
        "import nltk \r\n",
        "from newspaper import Article"
      ],
      "execution_count": 6,
      "outputs": []
    },
    {
      "cell_type": "code",
      "metadata": {
        "id": "TfVNV-RxcXxF"
      },
      "source": [
        "#Get the article\r\n",
        "url = 'https://azure.microsoft.com/en-us/services/iot-edge/#iotedge-overview'\r\n",
        "article = Article(url)"
      ],
      "execution_count": 10,
      "outputs": []
    },
    {
      "cell_type": "code",
      "metadata": {
        "colab": {
          "base_uri": "https://localhost:8080/"
        },
        "id": "AimyPqHBd0qs",
        "outputId": "9c47069c-4ec0-4d59-e8a8-e207a75a4a3d"
      },
      "source": [
        "#Do some NLP\r\n",
        "article.download()\r\n",
        "article.parse()\r\n",
        "nltk.download('punkt')\r\n",
        "article.nlp()"
      ],
      "execution_count": 11,
      "outputs": [
        {
          "output_type": "stream",
          "text": [
            "[nltk_data] Downloading package punkt to /root/nltk_data...\n",
            "[nltk_data]   Unzipping tokenizers/punkt.zip.\n"
          ],
          "name": "stdout"
        }
      ]
    },
    {
      "cell_type": "code",
      "metadata": {
        "colab": {
          "base_uri": "https://localhost:8080/"
        },
        "id": "yUkB1pXTefbW",
        "outputId": "4bb0267a-c4b7-46e8-8dcd-2094e8cb56cd"
      },
      "source": [
        "#Get the summery of the article\r\n",
        "text = article.summary\r\n",
        "\r\n",
        "#print teh text\r\n",
        "print(text)"
      ],
      "execution_count": 12,
      "outputs": [
        {
          "output_type": "stream",
          "text": [
            "IoT Edge code is consistent across the cloud and the edge, and it supports languages such as C, C#, Java, Node.js, and Python.\n",
            "Respond in near-real timeHaving the lowest latency possible between the data and the decision is critical.\n",
            "Rather than process your data in the cloud, IoT Edge processes it on the device itself, with the option of using hardware architecture from Microsoft called Project Brainwave.\n",
            "It uses a field-programmable gate array (FPGA) to make real-time AI calculations, giving you the immediate insights you need to make critical business decisions.\n",
            "Learn more about Project Brainwave\n"
          ],
          "name": "stdout"
        }
      ]
    },
    {
      "cell_type": "code",
      "metadata": {
        "colab": {
          "base_uri": "https://localhost:8080/"
        },
        "id": "6GOIYBSIfFIN",
        "outputId": "1ac8f645-e02b-433e-8696-b0e049a5bce3"
      },
      "source": [
        "#Create a TextBlob object\r\n",
        "obj = TextBlob(text)\r\n",
        "\r\n",
        "#This returns a value betwen -1 and 1\r\n",
        "sentiment = obj.sentiment.polarity\r\n",
        "print(sentiment)\r\n"
      ],
      "execution_count": 13,
      "outputs": [
        {
          "output_type": "stream",
          "text": [
            "0.125\n"
          ],
          "name": "stdout"
        }
      ]
    },
    {
      "cell_type": "code",
      "metadata": {
        "colab": {
          "base_uri": "https://localhost:8080/"
        },
        "id": "x_pe9zHyfxh9",
        "outputId": "17b1e6cd-d496-46f6-8fbe-61266cdc7ef4"
      },
      "source": [
        "if sentiment == 0:\r\n",
        "  print('The text is neutral')\r\n",
        "elif sentiment > 0:\r\n",
        "  print('The text is positive')\r\n",
        "else:\r\n",
        "  print('The text is negative')\r\n"
      ],
      "execution_count": 14,
      "outputs": [
        {
          "output_type": "stream",
          "text": [
            "The text is positive\n"
          ],
          "name": "stdout"
        }
      ]
    }
  ]
}