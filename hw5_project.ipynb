{
  "nbformat": 4,
  "nbformat_minor": 0,
  "metadata": {
    "colab": {
      "name": "hw5-project",
      "provenance": [],
      "collapsed_sections": [],
      "toc_visible": true
    },
    "kernelspec": {
      "name": "python3",
      "display_name": "Python 3"
    }
  },
  "cells": [
    {
      "cell_type": "markdown",
      "metadata": {
        "id": "nUXoMKBNL2BB",
        "colab_type": "text"
      },
      "source": [
        "\n",
        "<h3 align=\"center\">به نام خدا </h3>\n",
        "<h2 align=\"center\">تمرین سری پنجم </h2>\n",
        "\n",
        "\n",
        "<p align=\"right\">در این تمرین داده ها در سه کلاس مختلف و دارای دو ویژگی هستند می خواهیم با کمک دانسته های خود از توزیع های نرمال چند متغیره داده ها را دسته بندی کنیم</p>\n"
      ]
    },
    {
      "cell_type": "markdown",
      "metadata": {
        "id": "yDRm31mIz0Tu",
        "colab_type": "text"
      },
      "source": [
        "<p align=\"right\">دقت کنید که در این تمرین سه مجموعه داده ی آموزشی و یک مجموعه داده آزمایشی داریم. می خواهیم هر چهار حالت مختلفی که برای کوواریانس در جدول ۵٫۱ کتاب آمده است را برای این مجموعه داده پیاده سازی کنیم. یعنی برای هر مجموعه داده ۴ حالت مختلف و در کل ۱۲ حالت مختلف داریم</p>"
      ]
    },
    {
      "cell_type": "markdown",
      "metadata": {
        "id": "UzYY1KuUPu2Z",
        "colab_type": "text"
      },
      "source": [
        "# داده های ۵۰ تایی"
      ]
    },
    {
      "cell_type": "markdown",
      "metadata": {
        "id": "0v0tV8s9P4xZ",
        "colab_type": "text"
      },
      "source": [
        "<p align=\"right\">ابتدا داده ها را از فایل می خوانیم</p>"
      ]
    },
    {
      "cell_type": "code",
      "metadata": {
        "id": "3wyhQpoQQgQ0",
        "colab_type": "code",
        "outputId": "2d7301b3-6aa8-457d-87f8-95137c684617",
        "colab": {
          "base_uri": "https://localhost:8080/",
          "height": 419
        }
      },
      "source": [
        "import pandas as pd\n",
        "pd.read_csv(\"train_50.csv\") "
      ],
      "execution_count": 0,
      "outputs": [
        {
          "output_type": "execute_result",
          "data": {
            "text/html": [
              "<div>\n",
              "<style scoped>\n",
              "    .dataframe tbody tr th:only-of-type {\n",
              "        vertical-align: middle;\n",
              "    }\n",
              "\n",
              "    .dataframe tbody tr th {\n",
              "        vertical-align: top;\n",
              "    }\n",
              "\n",
              "    .dataframe thead th {\n",
              "        text-align: right;\n",
              "    }\n",
              "</style>\n",
              "<table border=\"1\" class=\"dataframe\">\n",
              "  <thead>\n",
              "    <tr style=\"text-align: right;\">\n",
              "      <th></th>\n",
              "      <th>feature_1</th>\n",
              "      <th>feature2</th>\n",
              "      <th>class</th>\n",
              "    </tr>\n",
              "  </thead>\n",
              "  <tbody>\n",
              "    <tr>\n",
              "      <th>0</th>\n",
              "      <td>3.995248</td>\n",
              "      <td>20.748698</td>\n",
              "      <td>A</td>\n",
              "    </tr>\n",
              "    <tr>\n",
              "      <th>1</th>\n",
              "      <td>-33.638589</td>\n",
              "      <td>29.655566</td>\n",
              "      <td>A</td>\n",
              "    </tr>\n",
              "    <tr>\n",
              "      <th>2</th>\n",
              "      <td>-12.059753</td>\n",
              "      <td>30.842051</td>\n",
              "      <td>A</td>\n",
              "    </tr>\n",
              "    <tr>\n",
              "      <th>3</th>\n",
              "      <td>-11.364022</td>\n",
              "      <td>32.932277</td>\n",
              "      <td>A</td>\n",
              "    </tr>\n",
              "    <tr>\n",
              "      <th>4</th>\n",
              "      <td>-3.042561</td>\n",
              "      <td>13.479239</td>\n",
              "      <td>A</td>\n",
              "    </tr>\n",
              "    <tr>\n",
              "      <th>...</th>\n",
              "      <td>...</td>\n",
              "      <td>...</td>\n",
              "      <td>...</td>\n",
              "    </tr>\n",
              "    <tr>\n",
              "      <th>145</th>\n",
              "      <td>2.781643</td>\n",
              "      <td>4.192512</td>\n",
              "      <td>C</td>\n",
              "    </tr>\n",
              "    <tr>\n",
              "      <th>146</th>\n",
              "      <td>9.023292</td>\n",
              "      <td>3.073695</td>\n",
              "      <td>C</td>\n",
              "    </tr>\n",
              "    <tr>\n",
              "      <th>147</th>\n",
              "      <td>23.850850</td>\n",
              "      <td>11.979647</td>\n",
              "      <td>C</td>\n",
              "    </tr>\n",
              "    <tr>\n",
              "      <th>148</th>\n",
              "      <td>-11.440716</td>\n",
              "      <td>-11.948574</td>\n",
              "      <td>C</td>\n",
              "    </tr>\n",
              "    <tr>\n",
              "      <th>149</th>\n",
              "      <td>-9.381017</td>\n",
              "      <td>-11.674320</td>\n",
              "      <td>C</td>\n",
              "    </tr>\n",
              "  </tbody>\n",
              "</table>\n",
              "<p>150 rows × 3 columns</p>\n",
              "</div>"
            ],
            "text/plain": [
              "     feature_1   feature2 class\n",
              "0     3.995248  20.748698     A\n",
              "1   -33.638589  29.655566     A\n",
              "2   -12.059753  30.842051     A\n",
              "3   -11.364022  32.932277     A\n",
              "4    -3.042561  13.479239     A\n",
              "..         ...        ...   ...\n",
              "145   2.781643   4.192512     C\n",
              "146   9.023292   3.073695     C\n",
              "147  23.850850  11.979647     C\n",
              "148 -11.440716 -11.948574     C\n",
              "149  -9.381017 -11.674320     C\n",
              "\n",
              "[150 rows x 3 columns]"
            ]
          },
          "metadata": {
            "tags": []
          },
          "execution_count": 16
        }
      ]
    },
    {
      "cell_type": "markdown",
      "metadata": {
        "id": "LpwNg78mMTzH",
        "colab_type": "text"
      },
      "source": [
        "<p align=\"right\">اکنون با کمک داده های موجود و چهار روشی که در جدول ۵٫۱ آمده  است داده های فایل تست را ارزیابی کنید و نتیجه را گزارش کنید</p>"
      ]
    },
    {
      "cell_type": "code",
      "metadata": {
        "id": "FLCVZLcENvZp",
        "colab_type": "code",
        "outputId": "38db2309-816a-4603-dd01-ed043f5a443d",
        "colab": {
          "base_uri": "https://localhost:8080/",
          "height": 419
        }
      },
      "source": [
        "import pandas as pd\n",
        "pd.read_csv(\"test_labels.csv\") "
      ],
      "execution_count": 0,
      "outputs": [
        {
          "output_type": "execute_result",
          "data": {
            "text/html": [
              "<div>\n",
              "<style scoped>\n",
              "    .dataframe tbody tr th:only-of-type {\n",
              "        vertical-align: middle;\n",
              "    }\n",
              "\n",
              "    .dataframe tbody tr th {\n",
              "        vertical-align: top;\n",
              "    }\n",
              "\n",
              "    .dataframe thead th {\n",
              "        text-align: right;\n",
              "    }\n",
              "</style>\n",
              "<table border=\"1\" class=\"dataframe\">\n",
              "  <thead>\n",
              "    <tr style=\"text-align: right;\">\n",
              "      <th></th>\n",
              "      <th>feature_1</th>\n",
              "      <th>feature2</th>\n",
              "      <th>class</th>\n",
              "    </tr>\n",
              "  </thead>\n",
              "  <tbody>\n",
              "    <tr>\n",
              "      <th>0</th>\n",
              "      <td>-5.956759</td>\n",
              "      <td>39.731351</td>\n",
              "      <td>A</td>\n",
              "    </tr>\n",
              "    <tr>\n",
              "      <th>1</th>\n",
              "      <td>7.762367</td>\n",
              "      <td>13.013505</td>\n",
              "      <td>A</td>\n",
              "    </tr>\n",
              "    <tr>\n",
              "      <th>2</th>\n",
              "      <td>-15.604349</td>\n",
              "      <td>22.882440</td>\n",
              "      <td>A</td>\n",
              "    </tr>\n",
              "    <tr>\n",
              "      <th>3</th>\n",
              "      <td>-24.274123</td>\n",
              "      <td>23.258260</td>\n",
              "      <td>A</td>\n",
              "    </tr>\n",
              "    <tr>\n",
              "      <th>4</th>\n",
              "      <td>-10.702425</td>\n",
              "      <td>23.885268</td>\n",
              "      <td>A</td>\n",
              "    </tr>\n",
              "    <tr>\n",
              "      <th>...</th>\n",
              "      <td>...</td>\n",
              "      <td>...</td>\n",
              "      <td>...</td>\n",
              "    </tr>\n",
              "    <tr>\n",
              "      <th>595</th>\n",
              "      <td>-3.540240</td>\n",
              "      <td>-8.646928</td>\n",
              "      <td>B</td>\n",
              "    </tr>\n",
              "    <tr>\n",
              "      <th>596</th>\n",
              "      <td>4.443038</td>\n",
              "      <td>-2.633018</td>\n",
              "      <td>B</td>\n",
              "    </tr>\n",
              "    <tr>\n",
              "      <th>597</th>\n",
              "      <td>17.105440</td>\n",
              "      <td>9.854244</td>\n",
              "      <td>B</td>\n",
              "    </tr>\n",
              "    <tr>\n",
              "      <th>598</th>\n",
              "      <td>4.346026</td>\n",
              "      <td>6.328321</td>\n",
              "      <td>B</td>\n",
              "    </tr>\n",
              "    <tr>\n",
              "      <th>599</th>\n",
              "      <td>6.346741</td>\n",
              "      <td>15.980343</td>\n",
              "      <td>B</td>\n",
              "    </tr>\n",
              "  </tbody>\n",
              "</table>\n",
              "<p>600 rows × 3 columns</p>\n",
              "</div>"
            ],
            "text/plain": [
              "     feature_1   feature2 class\n",
              "0    -5.956759  39.731351     A\n",
              "1     7.762367  13.013505     A\n",
              "2   -15.604349  22.882440     A\n",
              "3   -24.274123  23.258260     A\n",
              "4   -10.702425  23.885268     A\n",
              "..         ...        ...   ...\n",
              "595  -3.540240  -8.646928     B\n",
              "596   4.443038  -2.633018     B\n",
              "597  17.105440   9.854244     B\n",
              "598   4.346026   6.328321     B\n",
              "599   6.346741  15.980343     B\n",
              "\n",
              "[600 rows x 3 columns]"
            ]
          },
          "metadata": {
            "tags": []
          },
          "execution_count": 9
        }
      ]
    },
    {
      "cell_type": "markdown",
      "metadata": {
        "id": "S811PRxWOLfM",
        "colab_type": "text"
      },
      "source": [
        ""
      ]
    },
    {
      "cell_type": "markdown",
      "metadata": {
        "colab_type": "text",
        "id": "i0h8x3iEOMOI"
      },
      "source": [
        "# داده های 250 تایی"
      ]
    },
    {
      "cell_type": "markdown",
      "metadata": {
        "colab_type": "text",
        "id": "jnDJHeTqOMOT"
      },
      "source": [
        "<p align=\"right\">ابتدا داده ها را از فایل می خوانیم</p>"
      ]
    },
    {
      "cell_type": "code",
      "metadata": {
        "colab_type": "code",
        "outputId": "70a2af01-eee3-4fa5-e10a-c0c132e8749e",
        "id": "U8raFXZkOMOZ",
        "colab": {
          "base_uri": "https://localhost:8080/",
          "height": 419
        }
      },
      "source": [
        "import pandas as pd\n",
        "pd.read_csv(\"train_250.csv\") "
      ],
      "execution_count": 0,
      "outputs": [
        {
          "output_type": "execute_result",
          "data": {
            "text/html": [
              "<div>\n",
              "<style scoped>\n",
              "    .dataframe tbody tr th:only-of-type {\n",
              "        vertical-align: middle;\n",
              "    }\n",
              "\n",
              "    .dataframe tbody tr th {\n",
              "        vertical-align: top;\n",
              "    }\n",
              "\n",
              "    .dataframe thead th {\n",
              "        text-align: right;\n",
              "    }\n",
              "</style>\n",
              "<table border=\"1\" class=\"dataframe\">\n",
              "  <thead>\n",
              "    <tr style=\"text-align: right;\">\n",
              "      <th></th>\n",
              "      <th>feature_1</th>\n",
              "      <th>feature2</th>\n",
              "      <th>class</th>\n",
              "    </tr>\n",
              "  </thead>\n",
              "  <tbody>\n",
              "    <tr>\n",
              "      <th>0</th>\n",
              "      <td>3.995248</td>\n",
              "      <td>20.748698</td>\n",
              "      <td>A</td>\n",
              "    </tr>\n",
              "    <tr>\n",
              "      <th>1</th>\n",
              "      <td>-33.638589</td>\n",
              "      <td>29.655566</td>\n",
              "      <td>A</td>\n",
              "    </tr>\n",
              "    <tr>\n",
              "      <th>2</th>\n",
              "      <td>-12.059753</td>\n",
              "      <td>30.842051</td>\n",
              "      <td>A</td>\n",
              "    </tr>\n",
              "    <tr>\n",
              "      <th>3</th>\n",
              "      <td>-11.364022</td>\n",
              "      <td>32.932277</td>\n",
              "      <td>A</td>\n",
              "    </tr>\n",
              "    <tr>\n",
              "      <th>4</th>\n",
              "      <td>-3.042561</td>\n",
              "      <td>13.479239</td>\n",
              "      <td>A</td>\n",
              "    </tr>\n",
              "    <tr>\n",
              "      <th>...</th>\n",
              "      <td>...</td>\n",
              "      <td>...</td>\n",
              "      <td>...</td>\n",
              "    </tr>\n",
              "    <tr>\n",
              "      <th>745</th>\n",
              "      <td>-2.235812</td>\n",
              "      <td>10.089859</td>\n",
              "      <td>C</td>\n",
              "    </tr>\n",
              "    <tr>\n",
              "      <th>746</th>\n",
              "      <td>29.568559</td>\n",
              "      <td>14.672537</td>\n",
              "      <td>C</td>\n",
              "    </tr>\n",
              "    <tr>\n",
              "      <th>747</th>\n",
              "      <td>-16.545281</td>\n",
              "      <td>-3.312079</td>\n",
              "      <td>C</td>\n",
              "    </tr>\n",
              "    <tr>\n",
              "      <th>748</th>\n",
              "      <td>-12.817971</td>\n",
              "      <td>-14.392794</td>\n",
              "      <td>C</td>\n",
              "    </tr>\n",
              "    <tr>\n",
              "      <th>749</th>\n",
              "      <td>3.729180</td>\n",
              "      <td>-3.108631</td>\n",
              "      <td>C</td>\n",
              "    </tr>\n",
              "  </tbody>\n",
              "</table>\n",
              "<p>750 rows × 3 columns</p>\n",
              "</div>"
            ],
            "text/plain": [
              "     feature_1   feature2 class\n",
              "0     3.995248  20.748698     A\n",
              "1   -33.638589  29.655566     A\n",
              "2   -12.059753  30.842051     A\n",
              "3   -11.364022  32.932277     A\n",
              "4    -3.042561  13.479239     A\n",
              "..         ...        ...   ...\n",
              "745  -2.235812  10.089859     C\n",
              "746  29.568559  14.672537     C\n",
              "747 -16.545281  -3.312079     C\n",
              "748 -12.817971 -14.392794     C\n",
              "749   3.729180  -3.108631     C\n",
              "\n",
              "[750 rows x 3 columns]"
            ]
          },
          "metadata": {
            "tags": []
          },
          "execution_count": 10
        }
      ]
    },
    {
      "cell_type": "markdown",
      "metadata": {
        "colab_type": "text",
        "id": "0iPFum7QOMOp"
      },
      "source": [
        "<p align=\"right\">اکنون با کمک داده های موجود و چهار روشی که در جدول ۵٫۱ آمده  است داده های فایل تست را ارزیابی کنید و نتیجه را گزارش کنید</p>"
      ]
    },
    {
      "cell_type": "code",
      "metadata": {
        "colab_type": "code",
        "id": "s2MvU7yfOMOr",
        "outputId": "a8abcf9f-b5e4-4503-acce-5028863331d7",
        "colab": {
          "base_uri": "https://localhost:8080/",
          "height": 419
        }
      },
      "source": [
        "import pandas as pd\n",
        "pd.read_csv(\"test_labels.csv\") "
      ],
      "execution_count": 0,
      "outputs": [
        {
          "output_type": "execute_result",
          "data": {
            "text/html": [
              "<div>\n",
              "<style scoped>\n",
              "    .dataframe tbody tr th:only-of-type {\n",
              "        vertical-align: middle;\n",
              "    }\n",
              "\n",
              "    .dataframe tbody tr th {\n",
              "        vertical-align: top;\n",
              "    }\n",
              "\n",
              "    .dataframe thead th {\n",
              "        text-align: right;\n",
              "    }\n",
              "</style>\n",
              "<table border=\"1\" class=\"dataframe\">\n",
              "  <thead>\n",
              "    <tr style=\"text-align: right;\">\n",
              "      <th></th>\n",
              "      <th>feature_1</th>\n",
              "      <th>feature2</th>\n",
              "      <th>class</th>\n",
              "    </tr>\n",
              "  </thead>\n",
              "  <tbody>\n",
              "    <tr>\n",
              "      <th>0</th>\n",
              "      <td>-5.956759</td>\n",
              "      <td>39.731351</td>\n",
              "      <td>A</td>\n",
              "    </tr>\n",
              "    <tr>\n",
              "      <th>1</th>\n",
              "      <td>7.762367</td>\n",
              "      <td>13.013505</td>\n",
              "      <td>A</td>\n",
              "    </tr>\n",
              "    <tr>\n",
              "      <th>2</th>\n",
              "      <td>-15.604349</td>\n",
              "      <td>22.882440</td>\n",
              "      <td>A</td>\n",
              "    </tr>\n",
              "    <tr>\n",
              "      <th>3</th>\n",
              "      <td>-24.274123</td>\n",
              "      <td>23.258260</td>\n",
              "      <td>A</td>\n",
              "    </tr>\n",
              "    <tr>\n",
              "      <th>4</th>\n",
              "      <td>-10.702425</td>\n",
              "      <td>23.885268</td>\n",
              "      <td>A</td>\n",
              "    </tr>\n",
              "    <tr>\n",
              "      <th>...</th>\n",
              "      <td>...</td>\n",
              "      <td>...</td>\n",
              "      <td>...</td>\n",
              "    </tr>\n",
              "    <tr>\n",
              "      <th>595</th>\n",
              "      <td>-3.540240</td>\n",
              "      <td>-8.646928</td>\n",
              "      <td>B</td>\n",
              "    </tr>\n",
              "    <tr>\n",
              "      <th>596</th>\n",
              "      <td>4.443038</td>\n",
              "      <td>-2.633018</td>\n",
              "      <td>B</td>\n",
              "    </tr>\n",
              "    <tr>\n",
              "      <th>597</th>\n",
              "      <td>17.105440</td>\n",
              "      <td>9.854244</td>\n",
              "      <td>B</td>\n",
              "    </tr>\n",
              "    <tr>\n",
              "      <th>598</th>\n",
              "      <td>4.346026</td>\n",
              "      <td>6.328321</td>\n",
              "      <td>B</td>\n",
              "    </tr>\n",
              "    <tr>\n",
              "      <th>599</th>\n",
              "      <td>6.346741</td>\n",
              "      <td>15.980343</td>\n",
              "      <td>B</td>\n",
              "    </tr>\n",
              "  </tbody>\n",
              "</table>\n",
              "<p>600 rows × 3 columns</p>\n",
              "</div>"
            ],
            "text/plain": [
              "     feature_1   feature2 class\n",
              "0    -5.956759  39.731351     A\n",
              "1     7.762367  13.013505     A\n",
              "2   -15.604349  22.882440     A\n",
              "3   -24.274123  23.258260     A\n",
              "4   -10.702425  23.885268     A\n",
              "..         ...        ...   ...\n",
              "595  -3.540240  -8.646928     B\n",
              "596   4.443038  -2.633018     B\n",
              "597  17.105440   9.854244     B\n",
              "598   4.346026   6.328321     B\n",
              "599   6.346741  15.980343     B\n",
              "\n",
              "[600 rows x 3 columns]"
            ]
          },
          "metadata": {
            "tags": []
          },
          "execution_count": 11
        }
      ]
    },
    {
      "cell_type": "code",
      "metadata": {
        "id": "KsjdjXG2ONz_",
        "colab_type": "code",
        "colab": {}
      },
      "source": [
        ""
      ],
      "execution_count": 0,
      "outputs": []
    },
    {
      "cell_type": "markdown",
      "metadata": {
        "colab_type": "text",
        "id": "TduGFV8POOG6"
      },
      "source": [
        "# داده های 800 تایی"
      ]
    },
    {
      "cell_type": "markdown",
      "metadata": {
        "colab_type": "text",
        "id": "EJJ_v15WOOHA"
      },
      "source": [
        "<p align=\"right\">ابتدا داده ها را از فایل می خوانیم</p>"
      ]
    },
    {
      "cell_type": "code",
      "metadata": {
        "colab_type": "code",
        "outputId": "3b22cf81-8021-408a-90a5-02be43126646",
        "id": "LZE5REpAOOHG",
        "colab": {
          "base_uri": "https://localhost:8080/",
          "height": 419
        }
      },
      "source": [
        "import pandas as pd\n",
        "pd.read_csv(\"train_800.csv\") "
      ],
      "execution_count": 0,
      "outputs": [
        {
          "output_type": "execute_result",
          "data": {
            "text/html": [
              "<div>\n",
              "<style scoped>\n",
              "    .dataframe tbody tr th:only-of-type {\n",
              "        vertical-align: middle;\n",
              "    }\n",
              "\n",
              "    .dataframe tbody tr th {\n",
              "        vertical-align: top;\n",
              "    }\n",
              "\n",
              "    .dataframe thead th {\n",
              "        text-align: right;\n",
              "    }\n",
              "</style>\n",
              "<table border=\"1\" class=\"dataframe\">\n",
              "  <thead>\n",
              "    <tr style=\"text-align: right;\">\n",
              "      <th></th>\n",
              "      <th>feature_1</th>\n",
              "      <th>feature2</th>\n",
              "      <th>class</th>\n",
              "    </tr>\n",
              "  </thead>\n",
              "  <tbody>\n",
              "    <tr>\n",
              "      <th>0</th>\n",
              "      <td>3.995248</td>\n",
              "      <td>20.748698</td>\n",
              "      <td>A</td>\n",
              "    </tr>\n",
              "    <tr>\n",
              "      <th>1</th>\n",
              "      <td>-33.638589</td>\n",
              "      <td>29.655566</td>\n",
              "      <td>A</td>\n",
              "    </tr>\n",
              "    <tr>\n",
              "      <th>2</th>\n",
              "      <td>-12.059753</td>\n",
              "      <td>30.842051</td>\n",
              "      <td>A</td>\n",
              "    </tr>\n",
              "    <tr>\n",
              "      <th>3</th>\n",
              "      <td>-11.364022</td>\n",
              "      <td>32.932277</td>\n",
              "      <td>A</td>\n",
              "    </tr>\n",
              "    <tr>\n",
              "      <th>4</th>\n",
              "      <td>-3.042561</td>\n",
              "      <td>13.479239</td>\n",
              "      <td>A</td>\n",
              "    </tr>\n",
              "    <tr>\n",
              "      <th>...</th>\n",
              "      <td>...</td>\n",
              "      <td>...</td>\n",
              "      <td>...</td>\n",
              "    </tr>\n",
              "    <tr>\n",
              "      <th>2395</th>\n",
              "      <td>9.899822</td>\n",
              "      <td>3.461156</td>\n",
              "      <td>C</td>\n",
              "    </tr>\n",
              "    <tr>\n",
              "      <th>2396</th>\n",
              "      <td>3.471923</td>\n",
              "      <td>7.636385</td>\n",
              "      <td>C</td>\n",
              "    </tr>\n",
              "    <tr>\n",
              "      <th>2397</th>\n",
              "      <td>-20.651202</td>\n",
              "      <td>-6.338062</td>\n",
              "      <td>C</td>\n",
              "    </tr>\n",
              "    <tr>\n",
              "      <th>2398</th>\n",
              "      <td>3.163450</td>\n",
              "      <td>4.271676</td>\n",
              "      <td>C</td>\n",
              "    </tr>\n",
              "    <tr>\n",
              "      <th>2399</th>\n",
              "      <td>9.402216</td>\n",
              "      <td>12.729652</td>\n",
              "      <td>C</td>\n",
              "    </tr>\n",
              "  </tbody>\n",
              "</table>\n",
              "<p>2400 rows × 3 columns</p>\n",
              "</div>"
            ],
            "text/plain": [
              "      feature_1   feature2 class\n",
              "0      3.995248  20.748698     A\n",
              "1    -33.638589  29.655566     A\n",
              "2    -12.059753  30.842051     A\n",
              "3    -11.364022  32.932277     A\n",
              "4     -3.042561  13.479239     A\n",
              "...         ...        ...   ...\n",
              "2395   9.899822   3.461156     C\n",
              "2396   3.471923   7.636385     C\n",
              "2397 -20.651202  -6.338062     C\n",
              "2398   3.163450   4.271676     C\n",
              "2399   9.402216  12.729652     C\n",
              "\n",
              "[2400 rows x 3 columns]"
            ]
          },
          "metadata": {
            "tags": []
          },
          "execution_count": 12
        }
      ]
    },
    {
      "cell_type": "markdown",
      "metadata": {
        "colab_type": "text",
        "id": "__nfg3pTOOHS"
      },
      "source": [
        "<p align=\"right\">اکنون با کمک داده های موجود و چهار روشی که در جدول ۵٫۱ آمده  است داده های فایل تست را ارزیابی کنید و نتیجه را گزارش کنید</p>"
      ]
    },
    {
      "cell_type": "code",
      "metadata": {
        "colab_type": "code",
        "id": "gBVcITCIOOHV",
        "outputId": "c7368379-6956-4dc1-ad7f-2e61c6c8f915",
        "colab": {
          "base_uri": "https://localhost:8080/",
          "height": 419
        }
      },
      "source": [
        "import pandas as pd\n",
        "pd.read_csv(\"test_labels.csv\") "
      ],
      "execution_count": 0,
      "outputs": [
        {
          "output_type": "execute_result",
          "data": {
            "text/html": [
              "<div>\n",
              "<style scoped>\n",
              "    .dataframe tbody tr th:only-of-type {\n",
              "        vertical-align: middle;\n",
              "    }\n",
              "\n",
              "    .dataframe tbody tr th {\n",
              "        vertical-align: top;\n",
              "    }\n",
              "\n",
              "    .dataframe thead th {\n",
              "        text-align: right;\n",
              "    }\n",
              "</style>\n",
              "<table border=\"1\" class=\"dataframe\">\n",
              "  <thead>\n",
              "    <tr style=\"text-align: right;\">\n",
              "      <th></th>\n",
              "      <th>feature_1</th>\n",
              "      <th>feature2</th>\n",
              "      <th>class</th>\n",
              "    </tr>\n",
              "  </thead>\n",
              "  <tbody>\n",
              "    <tr>\n",
              "      <th>0</th>\n",
              "      <td>-5.956759</td>\n",
              "      <td>39.731351</td>\n",
              "      <td>A</td>\n",
              "    </tr>\n",
              "    <tr>\n",
              "      <th>1</th>\n",
              "      <td>7.762367</td>\n",
              "      <td>13.013505</td>\n",
              "      <td>A</td>\n",
              "    </tr>\n",
              "    <tr>\n",
              "      <th>2</th>\n",
              "      <td>-15.604349</td>\n",
              "      <td>22.882440</td>\n",
              "      <td>A</td>\n",
              "    </tr>\n",
              "    <tr>\n",
              "      <th>3</th>\n",
              "      <td>-24.274123</td>\n",
              "      <td>23.258260</td>\n",
              "      <td>A</td>\n",
              "    </tr>\n",
              "    <tr>\n",
              "      <th>4</th>\n",
              "      <td>-10.702425</td>\n",
              "      <td>23.885268</td>\n",
              "      <td>A</td>\n",
              "    </tr>\n",
              "    <tr>\n",
              "      <th>...</th>\n",
              "      <td>...</td>\n",
              "      <td>...</td>\n",
              "      <td>...</td>\n",
              "    </tr>\n",
              "    <tr>\n",
              "      <th>595</th>\n",
              "      <td>-3.540240</td>\n",
              "      <td>-8.646928</td>\n",
              "      <td>B</td>\n",
              "    </tr>\n",
              "    <tr>\n",
              "      <th>596</th>\n",
              "      <td>4.443038</td>\n",
              "      <td>-2.633018</td>\n",
              "      <td>B</td>\n",
              "    </tr>\n",
              "    <tr>\n",
              "      <th>597</th>\n",
              "      <td>17.105440</td>\n",
              "      <td>9.854244</td>\n",
              "      <td>B</td>\n",
              "    </tr>\n",
              "    <tr>\n",
              "      <th>598</th>\n",
              "      <td>4.346026</td>\n",
              "      <td>6.328321</td>\n",
              "      <td>B</td>\n",
              "    </tr>\n",
              "    <tr>\n",
              "      <th>599</th>\n",
              "      <td>6.346741</td>\n",
              "      <td>15.980343</td>\n",
              "      <td>B</td>\n",
              "    </tr>\n",
              "  </tbody>\n",
              "</table>\n",
              "<p>600 rows × 3 columns</p>\n",
              "</div>"
            ],
            "text/plain": [
              "     feature_1   feature2 class\n",
              "0    -5.956759  39.731351     A\n",
              "1     7.762367  13.013505     A\n",
              "2   -15.604349  22.882440     A\n",
              "3   -24.274123  23.258260     A\n",
              "4   -10.702425  23.885268     A\n",
              "..         ...        ...   ...\n",
              "595  -3.540240  -8.646928     B\n",
              "596   4.443038  -2.633018     B\n",
              "597  17.105440   9.854244     B\n",
              "598   4.346026   6.328321     B\n",
              "599   6.346741  15.980343     B\n",
              "\n",
              "[600 rows x 3 columns]"
            ]
          },
          "metadata": {
            "tags": []
          },
          "execution_count": 13
        }
      ]
    },
    {
      "cell_type": "code",
      "metadata": {
        "id": "3jJyvskpOO-U",
        "colab_type": "code",
        "colab": {}
      },
      "source": [
        ""
      ],
      "execution_count": 0,
      "outputs": []
    },
    {
      "cell_type": "markdown",
      "metadata": {
        "colab_type": "text",
        "id": "cFsmG_UiOPUh"
      },
      "source": [
        "# ارزیابی بهترین مدل"
      ]
    },
    {
      "cell_type": "markdown",
      "metadata": {
        "id": "lhznT7O8O0-c",
        "colab_type": "text"
      },
      "source": [
        "<p align=\"right\">در این بخش داده های موجود را با بهترین مدلی که یافتید دسته بندی کنید و نتایج را در یک فایل ذخیره کنید. در این فایل فقط کلاس داده ها را به ترتیب فایل داده شده بنویسید. دقت این ارزیابی  توسط دستیار آموزشی محاسبه می گردد و در نمره شما موثر است</p>"
      ]
    },
    {
      "cell_type": "markdown",
      "metadata": {
        "colab_type": "text",
        "id": "p4jpLChZOPUm"
      },
      "source": [
        "<p align=\"right\">ابتدا داده ها را از فایل می خوانیم</p>"
      ]
    },
    {
      "cell_type": "code",
      "metadata": {
        "colab_type": "code",
        "outputId": "b17bb3ec-ec38-42f5-919d-e7a8e93b249a",
        "id": "QiFl3CNVOPUn",
        "colab": {
          "base_uri": "https://localhost:8080/",
          "height": 419
        }
      },
      "source": [
        "import pandas as pd\n",
        "pd.read_csv(\"test_without_labels.csv\") "
      ],
      "execution_count": 0,
      "outputs": [
        {
          "output_type": "execute_result",
          "data": {
            "text/html": [
              "<div>\n",
              "<style scoped>\n",
              "    .dataframe tbody tr th:only-of-type {\n",
              "        vertical-align: middle;\n",
              "    }\n",
              "\n",
              "    .dataframe tbody tr th {\n",
              "        vertical-align: top;\n",
              "    }\n",
              "\n",
              "    .dataframe thead th {\n",
              "        text-align: right;\n",
              "    }\n",
              "</style>\n",
              "<table border=\"1\" class=\"dataframe\">\n",
              "  <thead>\n",
              "    <tr style=\"text-align: right;\">\n",
              "      <th></th>\n",
              "      <th>feature_1</th>\n",
              "      <th>feature2</th>\n",
              "      <th>class</th>\n",
              "    </tr>\n",
              "  </thead>\n",
              "  <tbody>\n",
              "    <tr>\n",
              "      <th>0</th>\n",
              "      <td>-2.328524</td>\n",
              "      <td>25.753123</td>\n",
              "      <td>NaN</td>\n",
              "    </tr>\n",
              "    <tr>\n",
              "      <th>1</th>\n",
              "      <td>-20.284837</td>\n",
              "      <td>29.915689</td>\n",
              "      <td>NaN</td>\n",
              "    </tr>\n",
              "    <tr>\n",
              "      <th>2</th>\n",
              "      <td>-28.839157</td>\n",
              "      <td>35.557409</td>\n",
              "      <td>NaN</td>\n",
              "    </tr>\n",
              "    <tr>\n",
              "      <th>3</th>\n",
              "      <td>3.714023</td>\n",
              "      <td>16.545123</td>\n",
              "      <td>NaN</td>\n",
              "    </tr>\n",
              "    <tr>\n",
              "      <th>4</th>\n",
              "      <td>-23.595944</td>\n",
              "      <td>33.222675</td>\n",
              "      <td>NaN</td>\n",
              "    </tr>\n",
              "    <tr>\n",
              "      <th>...</th>\n",
              "      <td>...</td>\n",
              "      <td>...</td>\n",
              "      <td>...</td>\n",
              "    </tr>\n",
              "    <tr>\n",
              "      <th>1495</th>\n",
              "      <td>-16.678540</td>\n",
              "      <td>-10.423661</td>\n",
              "      <td>NaN</td>\n",
              "    </tr>\n",
              "    <tr>\n",
              "      <th>1496</th>\n",
              "      <td>2.797295</td>\n",
              "      <td>5.665233</td>\n",
              "      <td>NaN</td>\n",
              "    </tr>\n",
              "    <tr>\n",
              "      <th>1497</th>\n",
              "      <td>18.866574</td>\n",
              "      <td>-2.742950</td>\n",
              "      <td>NaN</td>\n",
              "    </tr>\n",
              "    <tr>\n",
              "      <th>1498</th>\n",
              "      <td>-12.293818</td>\n",
              "      <td>-0.370455</td>\n",
              "      <td>NaN</td>\n",
              "    </tr>\n",
              "    <tr>\n",
              "      <th>1499</th>\n",
              "      <td>-1.854180</td>\n",
              "      <td>3.080005</td>\n",
              "      <td>NaN</td>\n",
              "    </tr>\n",
              "  </tbody>\n",
              "</table>\n",
              "<p>1500 rows × 3 columns</p>\n",
              "</div>"
            ],
            "text/plain": [
              "      feature_1   feature2  class\n",
              "0     -2.328524  25.753123    NaN\n",
              "1    -20.284837  29.915689    NaN\n",
              "2    -28.839157  35.557409    NaN\n",
              "3      3.714023  16.545123    NaN\n",
              "4    -23.595944  33.222675    NaN\n",
              "...         ...        ...    ...\n",
              "1495 -16.678540 -10.423661    NaN\n",
              "1496   2.797295   5.665233    NaN\n",
              "1497  18.866574  -2.742950    NaN\n",
              "1498 -12.293818  -0.370455    NaN\n",
              "1499  -1.854180   3.080005    NaN\n",
              "\n",
              "[1500 rows x 3 columns]"
            ]
          },
          "metadata": {
            "tags": []
          },
          "execution_count": 14
        }
      ]
    },
    {
      "cell_type": "code",
      "metadata": {
        "colab_type": "code",
        "id": "NhoA9kZcOPUr",
        "colab": {}
      },
      "source": [
        ""
      ],
      "execution_count": 0,
      "outputs": []
    }
  ]
}